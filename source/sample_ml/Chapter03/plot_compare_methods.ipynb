{
  "cells": [
    {
      "cell_type": "code",
      "execution_count": null,
      "metadata": {
        "collapsed": false
      },
      "outputs": [],
      "source": [
        "%matplotlib inline"
      ]
    },
    {
      "cell_type": "markdown",
      "metadata": {},
      "source": [
        "\n",
        "# Comparison of Manifold Learning methods\n",
        "\n",
        "[Comparison of Manifold Learning methods — scikit-learn 1.0.2 documentation](https://scikit-learn.org/stable/auto_examples/manifold/plot_compare_methods.html#sphx-glr-auto-examples-manifold-plot-compare-methods-py)\n",
        "\n",
        "An illustration of dimensionality reduction on the S-curve dataset\n",
        "with various manifold learning methods.\n",
        "\n",
        "For a discussion and comparison of these algorithms, see the\n",
        "`manifold module page <manifold>`\n",
        "\n",
        "For a similar example, where the methods are applied to a\n",
        "sphere dataset, see `sphx_glr_auto_examples_manifold_plot_manifold_sphere.py`\n",
        "\n",
        "Note that the purpose of the MDS is to find a low-dimensional\n",
        "representation of the data (here 2D) in which the distances respect well\n",
        "the distances in the original high-dimensional space, unlike other\n",
        "manifold-learning algorithms, it does not seeks an isotropic\n",
        "representation of the data in the low-dimensional space.\n"
      ]
    },
    {
      "cell_type": "code",
      "execution_count": null,
      "metadata": {
        "collapsed": false
      },
      "outputs": [],
      "source": [
        "# Author: Jake Vanderplas -- <vanderplas@astro.washington.edu>\n",
        "\n",
        "from collections import OrderedDict\n",
        "from functools import partial\n",
        "from time import time\n",
        "\n",
        "import matplotlib.pyplot as plt\n",
        "from mpl_toolkits.mplot3d import Axes3D\n",
        "from matplotlib.ticker import NullFormatter\n",
        "\n",
        "from sklearn import manifold, datasets\n",
        "\n",
        "# Next line to silence pyflakes. This import is needed.\n",
        "Axes3D\n",
        "\n",
        "n_points = 1000\n",
        "X, color = datasets.make_s_curve(n_points, random_state=0)\n",
        "n_neighbors = 10\n",
        "n_components = 2\n",
        "\n",
        "# Create figure\n",
        "fig = plt.figure(figsize=(15, 8))\n",
        "fig.suptitle(\n",
        "    \"Manifold Learning with %i points, %i neighbors\" % (1000, n_neighbors), fontsize=14\n",
        ")\n",
        "\n",
        "# Add 3d scatter plot\n",
        "ax = fig.add_subplot(251, projection=\"3d\")\n",
        "ax.scatter(X[:, 0], X[:, 1], X[:, 2], c=color, cmap=plt.cm.Spectral)\n",
        "ax.view_init(4, -72)\n",
        "\n",
        "# Set-up manifold methods\n",
        "LLE = partial(\n",
        "    manifold.LocallyLinearEmbedding,\n",
        "    n_neighbors=n_neighbors,\n",
        "    n_components=n_components,\n",
        "    eigen_solver=\"auto\",\n",
        ")\n",
        "\n",
        "methods = OrderedDict()\n",
        "methods[\"LLE\"] = LLE(method=\"standard\")\n",
        "methods[\"Hessian LLE\"] = LLE(method=\"hessian\")\n",
        "methods[\"Modified LLE\"] = LLE(method=\"modified\")\n",
        "methods[\"LTSA\"] = LLE(method=\"ltsa\")\n",
        "methods[\"t-SNE\"] = manifold.TSNE(n_components=n_components, init=\"pca\", random_state=0)\n",
        "methods[\"Isomap\"] = manifold.Isomap(n_neighbors=n_neighbors, n_components=n_components)\n",
        "methods[\"MDS\"] = manifold.MDS(n_components, max_iter=100, n_init=1)\n",
        "methods[\"SE\"] = manifold.SpectralEmbedding(\n",
        "    n_components=n_components, n_neighbors=n_neighbors\n",
        ")\n",
        "\n",
        "\n",
        "\n",
        "# Plot results\n",
        "for i, (label, method) in enumerate(methods.items()):\n",
        "    t0 = time()\n",
        "    Y = method.fit_transform(X)\n",
        "    t1 = time()\n",
        "    print(\"%s: %.2g sec\" % (label, t1 - t0))\n",
        "    ax = fig.add_subplot(2, 5, 2 + i + (i > 3))\n",
        "    ax.scatter(Y[:, 0], Y[:, 1], c=color, cmap=plt.cm.Spectral)\n",
        "    ax.set_title(\"%s (%.2g sec)\" % (label, t1 - t0))\n",
        "    ax.xaxis.set_major_formatter(NullFormatter())\n",
        "    ax.yaxis.set_major_formatter(NullFormatter())\n",
        "    ax.axis(\"tight\")\n",
        "\n",
        "plt.show()"
      ]
    }
  ],
  "metadata": {
    "kernelspec": {
      "display_name": "Python 3",
      "language": "python",
      "name": "python3"
    },
    "language_info": {
      "codemirror_mode": {
        "name": "ipython",
        "version": 3
      },
      "file_extension": ".py",
      "mimetype": "text/x-python",
      "name": "python",
      "nbconvert_exporter": "python",
      "pygments_lexer": "ipython3",
      "version": "3.8.2"
    }
  },
  "nbformat": 4,
  "nbformat_minor": 0
}
