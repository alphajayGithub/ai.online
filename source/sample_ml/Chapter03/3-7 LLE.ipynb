{
 "cells": [
  {
   "cell_type": "markdown",
   "metadata": {},
   "source": [
    "## LLE & 瑞士卷 \n",
    "[2.2. Manifold learning — scikit-learn 1.0.2 documentation](https://scikit-learn.org/stable/modules/manifold.html?highlight=locallylinearembedding)\n"
   ]
  },
  {
   "cell_type": "code",
   "execution_count": null,
   "metadata": {},
   "outputs": [],
   "source": [
    "from sklearn.datasets import make_swiss_roll\n",
    "from sklearn.manifold import LocallyLinearEmbedding\n",
    "import matplotlib.pyplot as plt\n",
    "import mpl_toolkits.mplot3d.axes3d as p3\n",
    "import numpy as np \n",
    "\n",
    "data, color = make_swiss_roll(n_samples=1500)\n",
    "\n",
    "X=data\n",
    "label=color\n",
    "\n",
    "fig = plt.figure()\n",
    "ax = p3.Axes3D(fig)\n",
    "ax.view_init(7, -80)\n",
    "for l in np.unique(label):\n",
    "    ax.scatter(\n",
    "        X[label == l, 0],\n",
    "        X[label == l, 1],\n",
    "        X[label == l, 2],\n",
    "        color=plt.cm.jet(float(l) / np.max(label + 1)),\n",
    "        s=40,\n",
    "        edgecolor=\"k\",\n",
    "    )\n",
    "\n"
   ]
  },
  {
   "cell_type": "code",
   "execution_count": null,
   "metadata": {},
   "outputs": [],
   "source": [
    "print(X.shape)\n",
    "n_neighbors = 15 # 近邻点的数量\n",
    "n_components = 2 # 降维后的维度\n",
    "model = LocallyLinearEmbedding(n_neighbors=n_neighbors,n_components=n_components)\n",
    "model.fit(data)\n",
    "Y=model.transform(data)\n",
    "#print(Y) # 变换后的数据\n",
    "\n",
    "plt.scatter(Y[:, 0], Y[:, 1], c=color, cmap=plt.cm.Spectral)"
   ]
  },
  {
   "cell_type": "markdown",
   "metadata": {},
   "source": [
    "## s_curve\n",
    "\n",
    "[sklearn.datasets.make_s_curve — scikit-learn 1.0.2 documentation](https://scikit-learn.org/stable/modules/generated/sklearn.datasets.make_s_curve.html)"
   ]
  },
  {
   "cell_type": "code",
   "execution_count": null,
   "metadata": {},
   "outputs": [],
   "source": [
    "import matplotlib.pyplot as plt\n",
    "\n",
    "from sklearn.datasets import make_s_curve\n",
    "X, y = make_s_curve(n_samples=1000)\n",
    "\n",
    "from mpl_toolkits.mplot3d import Axes3D\n",
    "ax = plt.axes(projection='3d')\n",
    "\n",
    "ax.scatter3D(X[:, 0], X[:, 1], X[:, 2], c=y)\n",
    "ax.view_init(10, -60);\n"
   ]
  },
  {
   "cell_type": "code",
   "execution_count": null,
   "metadata": {},
   "outputs": [],
   "source": [
    "from sklearn.manifold import LocallyLinearEmbedding\n",
    "model = LocallyLinearEmbedding(n_neighbors=6, n_components=2, method='modified',\n",
    "                               eigen_solver='dense')\n",
    "out = model.fit_transform(X)\n",
    "\n",
    "fig, ax = plt.subplots()\n",
    "#colorize = dict(c=X[:, 0], cmap=plt.cm.get_cmap('rainbow', 5)) # rainbow\n",
    "#ax.scatter(out[:, 0], out[:, 1], **colorize)\n",
    "ax.scatter(out[:, 0], out[:, 1], c=y)\n",
    "ax.set_ylim(0.15, -0.15);"
   ]
  },
  {
   "cell_type": "code",
   "execution_count": null,
   "metadata": {},
   "outputs": [],
   "source": [
    "from sklearn.decomposition import PCA\n",
    "X_pca = PCA(n_components=2).fit_transform(X)\n",
    "plt.scatter(X_pca[:, 0], X_pca[:, 1], c=y);\n",
    "\n",
    "\n"
   ]
  }
 ],
 "metadata": {
  "kernelspec": {
   "display_name": "Python 3",
   "language": "python",
   "name": "python3"
  },
  "language_info": {
   "codemirror_mode": {
    "name": "ipython",
    "version": 3
   },
   "file_extension": ".py",
   "mimetype": "text/x-python",
   "name": "python",
   "nbconvert_exporter": "python",
   "pygments_lexer": "ipython3",
   "version": "3.8.2"
  }
 },
 "nbformat": 4,
 "nbformat_minor": 2
}
