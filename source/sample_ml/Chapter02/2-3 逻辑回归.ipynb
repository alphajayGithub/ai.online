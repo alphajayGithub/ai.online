{
 "cells": [
  {
   "cell_type": "markdown",
   "metadata": {},
   "source": [
    "# 逻辑回归"
   ]
  },
  {
   "cell_type": "code",
   "execution_count": null,
   "metadata": {},
   "outputs": [],
   "source": [
    "import numpy as np\n",
    "from sklearn.linear_model import LogisticRegression\n",
    "import matplotlib.pyplot as plt\n",
    "\n",
    "X_train = np.r_[np.random.normal(3, 1, size=50), np.random.normal(-1, 1, size=50)].reshape((100, -1))\n",
    "y_train = np.r_[np.ones(50), np.zeros(50)]\n",
    "print(X_train.shape)\n",
    "print(y_train.shape)\n",
    "plt.scatter(X_train,y_train,label=\"1/0 logic function(P判断)\")\n",
    "\n",
    "model = LogisticRegression()\n",
    "model.fit(X_train, y_train)\n",
    "\n",
    "print(model.coef_)\n",
    "print(model.intercept_)\n",
    "\n",
    "print(model.predict_proba([[0], [1], [2]])[:, 1])\n",
    "plt.scatter(X_train, model.predict_proba(X_train)[:, 1], label=\"P linear function\")\n",
    "\n",
    "\n",
    "y_predict = model.predict(X_train)\n",
    "print('accuracy:', sum(y_predict==y_train)/len(y_predict)*100)\n",
    "# print(model.get_params())\n",
    "\n",
    "plt.legend()\n",
    "plt.show()\n"
   ]
  },
  {
   "cell_type": "code",
   "execution_count": null,
   "metadata": {},
   "outputs": [],
   "source": [
    "# sigmod(WX+b) 构建 逻辑回归\n",
    "def sigmoid(inputs):\n",
    "    sigmoid_scores = [\n",
    "          1 / float(1 + np.exp(- x)) \n",
    "          for x in inputs\n",
    "    ]\n",
    "    return sigmoid_scores\n",
    "\n",
    "linearOutput= X_train*model.coef_+model.intercept_\n",
    "sigmoidOutput = sigmoid(linearOutput.reshape(-1,1))\n",
    "\n",
    "plt.scatter(X_train,y_train,label=\"1/0 logic function(P判断)\")\n",
    "plt.scatter(X_train,sigmoidOutput, label=\"P linear function - sigmoid\" )\n",
    "plt.legend()\n",
    "plt.show()"
   ]
  },
  {
   "cell_type": "markdown",
   "metadata": {},
   "source": [
    "## sigmoid激活函数"
   ]
  },
  {
   "cell_type": "code",
   "execution_count": null,
   "metadata": {},
   "outputs": [],
   "source": [
    "import numpy as np \n",
    "import matplotlib.pyplot as plt \n",
    "\n",
    "x = np.arange(-10, 10, 0.001)\n",
    "y = 1 / (1 + np.exp(-x))\n",
    "plt.plot(x,y)\n",
    "plt.suptitle(r'$y=\\frac{1}{1+e^{-x}}$', fontsize=20)\n",
    "plt.grid(color='gray')\n",
    "plt.grid(linewidth='1')\n",
    "plt.grid(linestyle='--')\n",
    "\n",
    "plt.show()\n"
   ]
  },
  {
   "cell_type": "markdown",
   "metadata": {},
   "source": [
    "## 决策边界"
   ]
  },
  {
   "cell_type": "code",
   "execution_count": null,
   "metadata": {},
   "outputs": [],
   "source": [
    "import pandas as pd\n",
    "from sklearn.datasets import load_iris\n",
    "\n",
    "data = load_iris()\n",
    "X = pd.DataFrame(data.data, columns=data.feature_names)\n",
    "y = pd.DataFrame(data.target, columns=[\"Species\"])\n",
    "df = pd.concat([ X,y], axis=1)\n",
    "df.head()"
   ]
  },
  {
   "cell_type": "code",
   "execution_count": null,
   "metadata": {},
   "outputs": [],
   "source": [
    "species = [ 'Iris-Setosa', 'Iris-Versicolour', 'Iris-Virginica' ]\n",
    "\n",
    "for target in species:\n",
    "    #  df.iloc \n",
    "    # https://zhuanlan.zhihu.com/p/76241647\n",
    "    # https://blog.csdn.net/weixin_48701352/article/details/120247544\n",
    "    x1_data = df[ df['Species']==species.index(target)].iloc[:, 1]\n",
    "    x2_data = df[ df['Species']==species.index(target)].iloc[:, 2]\n",
    "    y_data = df.iloc[:, -1]\n",
    "    plt.scatter(x1_data, x2_data, label=f\"{target}\" )\n",
    "\n",
    "model = LogisticRegression()\n",
    "model.fit(df.iloc[:, [1,2]],  df.iloc[:, -1] )\n",
    "print(model.coef_)\n",
    "print(model.intercept_)\n",
    "\n",
    "plt.legend()\n",
    "plt.show()\n"
   ]
  }
 ],
 "metadata": {
  "kernelspec": {
   "display_name": "Python 3",
   "language": "python",
   "name": "python3"
  },
  "language_info": {
   "codemirror_mode": {
    "name": "ipython",
    "version": 3
   },
   "file_extension": ".py",
   "mimetype": "text/x-python",
   "name": "python",
   "nbconvert_exporter": "python",
   "pygments_lexer": "ipython3",
   "version": "3.8.2"
  }
 },
 "nbformat": 4,
 "nbformat_minor": 2
}
