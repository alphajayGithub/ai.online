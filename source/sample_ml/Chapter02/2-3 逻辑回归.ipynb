{
 "cells": [
  {
   "cell_type": "markdown",
   "metadata": {},
   "source": [
    "# 逻辑回归"
   ]
  },
  {
   "cell_type": "code",
   "execution_count": 5,
   "metadata": {},
   "outputs": [
    {
     "name": "stdout",
     "output_type": "stream",
     "text": [
      "(100, 1)\n",
      "(100,)\n",
      "[[2.2849183]]\n",
      "[-1.90900846]\n",
      "[0.12909229 0.59288623 0.93467525]\n",
      "accuracy: 99.0\n"
     ]
    },
    {
     "data": {
      "image/png": "[encoded data removed]",
      "text/plain": [
       "<Figure size 432x288 with 1 Axes>"
      ]
     },
     "metadata": {
      "needs_background": "light"
     },
     "output_type": "display_data"
    }
   ],
   "source": [
    "import numpy as np\n",
    "from sklearn.linear_model import LogisticRegression\n",
    "import matplotlib.pyplot as plt\n",
    "\n",
    "X_train = np.r_[np.random.normal(3, 1, size=50), np.random.normal(-1, 1, size=50)].reshape((100, -1))\n",
    "y_train = np.r_[np.ones(50), np.zeros(50)]\n",
    "print(X_train.shape)\n",
    "print(y_train.shape)\n",
    "plt.scatter(X_train,y_train,label=\"1/0 logic function(P判断)\")\n",
    "\n",
    "model = LogisticRegression()\n",
    "model.fit(X_train, y_train)\n",
    "\n",
    "print(model.coef_)\n",
    "print(model.intercept_)\n",
    "\n",
    "print(model.predict_proba([[0], [1], [2]])[:, 1])\n",
    "plt.scatter(X_train, model.predict_proba(X_train)[:, 1], label=\"P linear function\")\n",
    "\n",
    "\n",
    "y_predict = model.predict(X_train)\n",
    "print('accuracy:', sum(y_predict==y_train)/len(y_predict)*100)\n",
    "# print(model.get_params())\n",
    "\n",
    "plt.legend()\n",
    "plt.show()\n"
   ]
  },
  {
   "cell_type": "code",
   "execution_count": null,
   "metadata": {},
   "outputs": [],
   "source": [
    "# sigmod(WX+b) 构建 逻辑回归\n",
    "def sigmoid(inputs):\n",
    "    sigmoid_scores = [\n",
    "          1 / float(1 + np.exp(- x)) \n",
    "          for x in inputs\n",
    "    ]\n",
    "    return sigmoid_scores\n",
    "\n",
    "linearOutput= X_train*model.coef_+model.intercept_\n",
    "sigmoidOutput = sigmoid(linearOutput.reshape(-1,1))\n",
    "\n",
    "plt.scatter(X_train,y_train,label=\"1/0 logic function(P判断)\")\n",
    "plt.scatter(X_train,sigmoidOutput, label=\"P linear function - sigmoid\" )\n",
    "plt.legend()\n",
    "plt.show()"
   ]
  },
  {
   "cell_type": "markdown",
   "metadata": {},
   "source": [
    "## sigmoid激活函数"
   ]
  },
  {
   "cell_type": "code",
   "execution_count": null,
   "metadata": {},
   "outputs": [],
   "source": [
    "import numpy as np \n",
    "import matplotlib.pyplot as plt \n",
    "\n",
    "x = np.arange(-10, 10, 0.001)\n",
    "y = 1 / (1 + np.exp(-x))\n",
    "plt.plot(x,y)\n",
    "plt.suptitle(r'$y=\\frac{1}{1+e^{-x}}$', fontsize=20)\n",
    "plt.grid(color='gray')\n",
    "plt.grid(linewidth='1')\n",
    "plt.grid(linestyle='--')\n",
    "\n",
    "plt.show()\n"
   ]
  },
  {
   "cell_type": "markdown",
   "metadata": {},
   "source": [
    "## 决策边界"
   ]
  },
  {
   "cell_type": "code",
   "execution_count": 3,
   "metadata": {},
   "outputs": [
    {
     "name": "stderr",
     "output_type": "stream",
     "text": [
      "Duplicate key in file PosixPath('/Users/alphajay/.virtualenvs/ml/lib/python3.8/site-packages/matplotlib/mpl-data/matplotlibrc'), line 405 ('axes.unicode_minus: True  # use Unicode for the minus symbol rather than hyphen.  See')\n"
     ]
    },
    {
     "data": {
      "text/html": [
       "<div>\n",
       "<style scoped>\n",
       "    .dataframe tbody tr th:only-of-type {\n",
       "        vertical-align: middle;\n",
       "    }\n",
       "\n",
       "    .dataframe tbody tr th {\n",
       "        vertical-align: top;\n",
       "    }\n",
       "\n",
       "    .dataframe thead th {\n",
       "        text-align: right;\n",
       "    }\n",
       "</style>\n",
       "<table border=\"1\" class=\"dataframe\">\n",
       "  <thead>\n",
       "    <tr style=\"text-align: right;\">\n",
       "      <th></th>\n",
       "      <th>sepal length (cm)</th>\n",
       "      <th>sepal width (cm)</th>\n",
       "      <th>petal length (cm)</th>\n",
       "      <th>petal width (cm)</th>\n",
       "      <th>Species</th>\n",
       "    </tr>\n",
       "  </thead>\n",
       "  <tbody>\n",
       "    <tr>\n",
       "      <th>0</th>\n",
       "      <td>5.1</td>\n",
       "      <td>3.5</td>\n",
       "      <td>1.4</td>\n",
       "      <td>0.2</td>\n",
       "      <td>0</td>\n",
       "    </tr>\n",
       "    <tr>\n",
       "      <th>1</th>\n",
       "      <td>4.9</td>\n",
       "      <td>3.0</td>\n",
       "      <td>1.4</td>\n",
       "      <td>0.2</td>\n",
       "      <td>0</td>\n",
       "    </tr>\n",
       "    <tr>\n",
       "      <th>2</th>\n",
       "      <td>4.7</td>\n",
       "      <td>3.2</td>\n",
       "      <td>1.3</td>\n",
       "      <td>0.2</td>\n",
       "      <td>0</td>\n",
       "    </tr>\n",
       "    <tr>\n",
       "      <th>3</th>\n",
       "      <td>4.6</td>\n",
       "      <td>3.1</td>\n",
       "      <td>1.5</td>\n",
       "      <td>0.2</td>\n",
       "      <td>0</td>\n",
       "    </tr>\n",
       "    <tr>\n",
       "      <th>4</th>\n",
       "      <td>5.0</td>\n",
       "      <td>3.6</td>\n",
       "      <td>1.4</td>\n",
       "      <td>0.2</td>\n",
       "      <td>0</td>\n",
       "    </tr>\n",
       "  </tbody>\n",
       "</table>\n",
       "</div>"
      ],
      "text/plain": [
       "   sepal length (cm)  sepal width (cm)  petal length (cm)  petal width (cm)  \\\n",
       "0                5.1               3.5                1.4               0.2   \n",
       "1                4.9               3.0                1.4               0.2   \n",
       "2                4.7               3.2                1.3               0.2   \n",
       "3                4.6               3.1                1.5               0.2   \n",
       "4                5.0               3.6                1.4               0.2   \n",
       "\n",
       "   Species  \n",
       "0        0  \n",
       "1        0  \n",
       "2        0  \n",
       "3        0  \n",
       "4        0  "
      ]
     },
     "execution_count": 3,
     "metadata": {},
     "output_type": "execute_result"
    }
   ],
   "source": [
    "import pandas as pd\n",
    "from sklearn.datasets import load_iris\n",
    "import matplotlib.pyplot as plt\n",
    "\n",
    "data = load_iris()\n",
    "X = pd.DataFrame(data.data, columns=data.feature_names)\n",
    "y = pd.DataFrame(data.target, columns=[\"Species\"])\n",
    "df = pd.concat([ X,y], axis=1)\n",
    "df.head()"
   ]
  },
  {
   "cell_type": "code",
   "execution_count": 8,
   "metadata": {},
   "outputs": [
    {
     "name": "stdout",
     "output_type": "stream",
     "text": [
      "[[ 0.88987787 -2.92184279]\n",
      " [-0.34066053 -0.41031516]\n",
      " [-0.54921735  3.33215794]]\n",
      "[  8.01853613   4.8096657  -12.82820183]\n"
     ]
    },
    {
     "data": {
      "image/png": "[encoded data removed]",
      "text/plain": [
       "<Figure size 432x288 with 1 Axes>"
      ]
     },
     "metadata": {
      "needs_background": "light"
     },
     "output_type": "display_data"
    }
   ],
   "source": [
    "species = [ 'Iris-Setosa', 'Iris-Versicolour', 'Iris-Virginica' ]\n",
    "\n",
    "for target in species:\n",
    "    #  df.iloc \n",
    "    # https://zhuanlan.zhihu.com/p/76241647\n",
    "    # https://blog.csdn.net/weixin_48701352/article/details/120247544\n",
    "    x1_data = df[ df['Species']==species.index(target)].iloc[:, 1]\n",
    "    x2_data = df[ df['Species']==species.index(target)].iloc[:, 2]\n",
    "    y_data = df.iloc[:, -1]\n",
    "    plt.scatter(x1_data, x2_data, label=f\"{target}\" )\n",
    "\n",
    "model = LogisticRegression()\n",
    "model.fit(df.iloc[:, [1,2]],  df.iloc[:, -1] )\n",
    "print(model.coef_)\n",
    "print(model.intercept_)\n",
    "\n",
    "'''\n",
    "for index in range(3):\n",
    "    W1=model.coef_[index][0]\n",
    "    W2=model.coef_[index][1]\n",
    "    bias=model.intercept_[index]\n",
    "    plt.plot([0,-bias/W2], [-bias/W1,0])\n",
    "'''\n",
    "\n",
    "plt.legend()\n",
    "plt.show()\n"
   ]
  }
 ],
 "metadata": {
  "kernelspec": {
   "display_name": "Python 3",
   "language": "python",
   "name": "python3"
  },
  "language_info": {
   "codemirror_mode": {
    "name": "ipython",
    "version": 3
   },
   "file_extension": ".py",
   "mimetype": "text/x-python",
   "name": "python",
   "nbconvert_exporter": "python",
   "pygments_lexer": "ipython3",
   "version": "3.8.2"
  }
 },
 "nbformat": 4,
 "nbformat_minor": 2
}
