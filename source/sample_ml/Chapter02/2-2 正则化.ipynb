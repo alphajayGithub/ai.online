{
 "cells": [
  {
   "cell_type": "markdown",
   "metadata": {},
   "source": [
    "# 多项式回归与正则化"
   ]
  },
  {
   "cell_type": "markdown",
   "metadata": {},
   "source": [
    "产生测试数据\n"
   ]
  },
  {
   "cell_type": "code",
   "execution_count": null,
   "metadata": {},
   "outputs": [],
   "source": [
    "import numpy as np\n",
    "from sklearn.preprocessing import PolynomialFeatures\n",
    "from sklearn.linear_model import Ridge\n",
    "from sklearn.metrics import mean_squared_error\n",
    "import matplotlib.pyplot as plt\n",
    "\n",
    "train_size = 90\n",
    "test_size = 30\n",
    "train_X = np.random.uniform(low=0, high=1.2, size=train_size)\n",
    "test_X = np.random.uniform(low=0.1, high=1.3, size=test_size)\n",
    "train_y = np.sin(train_X * 2 * np.pi) + np.random.normal(0, 0.2, train_size)\n",
    "test_y = np.sin(test_X * 2 * np.pi) + np.random.normal(0, 0.2, test_size)\n",
    "# y=sin(2Pi x)+高斯分布随机数\n",
    "\n",
    "plt.scatter(train_X,train_y,label=\"train\")\n",
    "plt.scatter(test_X,test_y,label=\"test\")\n",
    "plt.legend()\n",
    "\n"
   ]
  },
  {
   "cell_type": "markdown",
   "metadata": {},
   "source": [
    "## 线性回归\n"
   ]
  },
  {
   "cell_type": "code",
   "execution_count": null,
   "metadata": {},
   "outputs": [],
   "source": [
    "from sklearn.linear_model import LinearRegression\n",
    "lr = LinearRegression() \n",
    "\n",
    "train_X_2D=np.array(train_X).reshape(-1, 1)\n",
    "lr.fit(train_X_2D, train_y)\n",
    "plt.plot(train_X, lr.predict(train_X_2D), color = 'blue') \n",
    "\n",
    "plt.scatter(train_X,train_y,label=\"train\")\n",
    "plt.scatter(test_X,test_y,label=\"test\")\n",
    "plt.legend()\n",
    "plt.show()"
   ]
  },
  {
   "cell_type": "markdown",
   "metadata": {},
   "source": [
    "## 多项式回归"
   ]
  },
  {
   "cell_type": "code",
   "execution_count": null,
   "metadata": {},
   "outputs": [],
   "source": [
    "\n",
    "polynomialList=[2,3,4,5,6,7,8]\n",
    "for degree in polynomialList:\n",
    "\n",
    "    poly = PolynomialFeatures(degree) # 次数为6\n",
    "    train_poly_X = poly.fit_transform(train_X.reshape(train_size, 1))\n",
    "    test_poly_X = poly.fit_transform(test_X.reshape(test_size, 1))\n",
    "    # fit即先对数据进行拟合，求得训练数据的固有属性，例如方差均值最值等属性，transform对数据进行归一化标准化等操作，将数据缩放映射至某个固定区间\n",
    "\n",
    "    poly.fit(train_poly_X, train_y) \n",
    "    lrPoly = LinearRegression() \n",
    "    lrPoly.fit(train_poly_X, train_y)\n",
    "\n",
    "    train_pred_y=lrPoly.predict(train_poly_X)\n",
    "    test_pred_y=lrPoly.predict(test_poly_X)\n",
    "    \n",
    "    training_mse = mean_squared_error(train_pred_y, train_y)\n",
    "    test_mse = mean_squared_error(test_pred_y, test_y)\n",
    "    print(\"%d阶多项式回归\"%degree,\"训练mse： %.3f\"%training_mse,\"测试mse： %.3f\"%test_mse )\n",
    "\n",
    "    \n",
    "    plt.scatter(train_X,train_y,label=\"train\")  \n",
    "    plt.plot(np.sort(train_X), train_pred_y[np.argsort(train_X)], label=f\"train {degree}\") \n",
    "\n",
    "    plt.scatter(test_X,test_y,label=\"test\")\n",
    "    plt.plot(np.sort(test_X), test_pred_y[np.argsort(test_X)], label=f\"test {degree} \") \n",
    "\n",
    "    plt.title('Polynomial Regression') \n",
    "    plt.legend()\n",
    "    plt.show()\n",
    "\n",
    "\n",
    "\n",
    "\n"
   ]
  },
  {
   "cell_type": "markdown",
   "metadata": {},
   "source": [
    "## 数据维度\n"
   ]
  },
  {
   "cell_type": "code",
   "execution_count": null,
   "metadata": {},
   "outputs": [],
   "source": [
    "print(train_X.shape)\n",
    "print(test_X.shape)\n",
    "print(test_poly_X.shape)\n",
    "print(test_X)\n",
    "print(test_poly_X[0])\n",
    "print(test_poly_X[1])"
   ]
  },
  {
   "cell_type": "markdown",
   "metadata": {},
   "source": [
    "## ridge回归 - 正则化"
   ]
  },
  {
   "cell_type": "code",
   "execution_count": null,
   "metadata": {},
   "outputs": [],
   "source": [
    "degree=6\n",
    "poly = PolynomialFeatures(degree) \n",
    "train_poly_X = poly.fit_transform(train_X.reshape(train_size, 1))\n",
    "test_poly_X = poly.fit_transform(test_X.reshape(test_size, 1))\n",
    "    \n",
    "print(np.transpose(poly.powers_) )\n",
    "\n",
    "\n",
    "plt.scatter(train_X, train_y, label=\"data\")\n",
    "\n",
    "alphaList=[1,3,5,9,15,50,100]\n",
    "for alpha in alphaList:\n",
    "    model = Ridge(alpha)\n",
    "    model.fit(train_poly_X, train_y)\n",
    "    train_pred_y = model.predict(train_poly_X)\n",
    "    test_pred_y = model.predict(test_poly_X)\n",
    "    training_mse = mean_squared_error(train_pred_y, train_y)\n",
    "    test_mse = mean_squared_error(test_pred_y, test_y)\n",
    "    print(\"alpha%d\"%alpha,\"训练mse： %.3f\"%training_mse,\"测试mse： %.3f\"%test_mse )\n",
    "    plt.plot(np.sort(train_X), train_pred_y[np.argsort(train_X)], label=f\"alpha{alpha}\")\n",
    "\n",
    "\n",
    "#plt.scatter(train_X, train_y)\n",
    "\n",
    "plt.legend()\n",
    "plt.show()\n",
    "\n"
   ]
  }
 ],
 "metadata": {
  "kernelspec": {
   "display_name": "Python 3",
   "language": "python",
   "name": "python3"
  },
  "language_info": {
   "codemirror_mode": {
    "name": "ipython",
    "version": 3
   },
   "file_extension": ".py",
   "mimetype": "text/x-python",
   "name": "python",
   "nbconvert_exporter": "python",
   "pygments_lexer": "ipython3",
   "version": "3.8.2"
  }
 },
 "nbformat": 4,
 "nbformat_minor": 2
}
