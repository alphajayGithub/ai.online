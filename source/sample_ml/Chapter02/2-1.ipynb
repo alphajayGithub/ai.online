{
 "cells": [
  {
   "cell_type": "markdown",
   "metadata": {},
   "source": [
    "# LinearRegression 一元线性回归"
   ]
  },
  {
   "cell_type": "code",
   "execution_count": 91,
   "metadata": {},
   "outputs": [
    {
     "name": "stdout",
     "output_type": "stream",
     "text": [
      "3.0000909090909094\n",
      "[0.50009091]\n",
      "[ 3.00009091  3.50018182 10.50145455]\n"
     ]
    }
   ],
   "source": [
    "from sklearn.linear_model import LinearRegression\n",
    "\n",
    "\n",
    "X = [[10.0], [8.0], [13.0], [9.0], [11.0], [14.0], [6.0], [4.0], [12.0], [7.0], [5.0]]\n",
    "y = [8.04, 6.95, 7.58, 8.81, 8.33, 9.96, 7.24, 4.26, 10.84, 4.82, 5.68]\n",
    "model = LinearRegression()\n",
    "model.fit(X, y) \n",
    "print(model.intercept_) # 截距 \n",
    "print(model.coef_) # 斜率\n",
    "y_pred = model.predict([[0], [1],[15]]) \n",
    "print(y_pred) # 对x=0, x=1的预测结果"
   ]
  },
  {
   "cell_type": "markdown",
   "metadata": {},
   "source": [
    "## 一元线性回归绘图"
   ]
  },
  {
   "cell_type": "code",
   "execution_count": 97,
   "metadata": {},
   "outputs": [
    {
     "name": "stdout",
     "output_type": "stream",
     "text": [
      "[0.50009091]\n",
      "3.0000909090909094\n"
     ]
    },
    {
     "data": {
      "text/plain": [
       "[<matplotlib.lines.Line2D at 0x7fd0fda12880>]"
      ]
     },
     "execution_count": 97,
     "metadata": {},
     "output_type": "execute_result"
    },
    {
     "data": {
      "image/png": "[encoded data removed]",
      "text/plain": [
       "<Figure size 432x288 with 1 Axes>"
      ]
     },
     "metadata": {
      "needs_background": "light"
     },
     "output_type": "display_data"
    }
   ],
   "source": [
    "%matplotlib inline\n",
    "import matplotlib.pyplot as plt\n",
    "import numpy as np\n",
    "\n",
    "#https://scikit-learn.org/stable/modules/generated/sklearn.linear_model.LinearRegression.html\n",
    "\n",
    "plt.scatter(X, y)\n",
    "\n",
    "weight=model.coef_#获取斜率w1,w2,w3,...,wn\n",
    "bias=model.intercept_#获取截距w0\n",
    "print(weight)\n",
    "print(bias)\n",
    "\n",
    "x_plot=np.arange(0,15,0.2)\n",
    "y_plot=weight*x_plot+bias\n",
    "y_plot_predict=model.predict(np.array(x_plot).reshape(-1, 1) )\n",
    "\n",
    "plt.plot(x_plot, y_plot)\n",
    "plt.plot(x_plot, y_plot_predict)"
   ]
  },
  {
   "cell_type": "markdown",
   "metadata": {},
   "source": [
    "# [Anscombe's Quartet 安斯库姆.四重奏](https://zhuanlan.zhihu.com/p/413824758)\n",
    "\n"
   ]
  },
  {
   "cell_type": "code",
   "execution_count": 98,
   "metadata": {},
   "outputs": [
    {
     "name": "stdout",
     "output_type": "stream",
     "text": [
      "    x123     y1    y2     y3    x4     y4\n",
      "0   10.0   8.04  9.14   7.46   8.0   6.58\n",
      "1    8.0   6.95  8.14   6.77   8.0   5.76\n",
      "2   13.0   7.58  8.74  12.74   8.0   7.71\n",
      "3    9.0   8.81  8.77   7.11   8.0   8.84\n",
      "4   11.0   8.33  9.26   7.81   8.0   8.47\n",
      "5   14.0   9.96  8.10   8.84   8.0   7.04\n",
      "6    6.0   7.24  6.13   6.08   8.0   5.25\n",
      "7    4.0   4.26  3.10   5.39  19.0  12.50\n",
      "8   12.0  10.84  9.13   8.15   8.0   5.56\n",
      "9    7.0   4.82  7.26   6.42   8.0   7.91\n",
      "10   5.0   5.68  4.74   5.73   8.0   6.89\n"
     ]
    }
   ],
   "source": [
    "import numpy as np\n",
    "import pandas as pd\n",
    "#from pandas import Series\n",
    "#from pandas import DataFrame\n",
    "\n",
    "\n",
    "\n",
    "'''\n",
    "link: https://www.kaggle.com/carlmcbrideellis/data-anscombes-quartet\n",
    "\n",
    "This file consists of four data sets of 11 points each. \n",
    "Note the peculiarity that the same 'x' values are used for the first three data sets, \n",
    "and I have followed this exactly as in the original publication (originally done to save space), \n",
    "i.e. the first column (x123) serves as the 'x' for the next three 'y' columns.\n",
    "'''\n",
    "\n",
    "df = pd.read_csv('Anscombe_quartet_data.csv') \n",
    "# https://pandas.pydata.org/pandas-docs/stable/reference/api/pandas.read_csv.html\n",
    "\n",
    "print(df)"
   ]
  },
  {
   "cell_type": "markdown",
   "metadata": {},
   "source": [
    "## 4重奏数据的统计特性"
   ]
  },
  {
   "cell_type": "code",
   "execution_count": 100,
   "metadata": {},
   "outputs": [
    {
     "name": "stdout",
     "output_type": "stream",
     "text": [
      "x平均数为9.00 方差为10.00 y平均数为7.50 方差为3.75 xy的相关系数分别为0.82\n",
      "x平均数为9.00 方差为10.00 y平均数为7.50 方差为3.75 xy的相关系数分别为0.82\n",
      "x平均数为9.00 方差为10.00 y平均数为7.50 方差为3.75 xy的相关系数分别为0.82\n",
      "x平均数为9.00 方差为10.00 y平均数为7.50 方差为3.75 xy的相关系数分别为0.82\n"
     ]
    }
   ],
   "source": [
    "x1=df.loc[:,'x123']\n",
    "y1=df.loc[:,'y1']\n",
    "x2=df.loc[:,'x123']\n",
    "y2=df.loc[:,'y2']\n",
    "x3=df.loc[:,'x123']\n",
    "y3=df.loc[:,'y3']\n",
    "x4=df.loc[:,'x4']\n",
    "y4=df.loc[:,'y4']\n",
    "#print(x2)\n",
    "#print(y2)\n",
    "\n",
    "for x,y in zip([x1,x2,x3,x4],[y1,y2,y3,y4]):\n",
    "    print(np.transpose(x).tolist())\n",
    "    print(np.transpose(y).tolist()) # 转置打印\n",
    "    print(\"x平均数为%.2f\"%np.mean(x),\"方差为%.2f\"%np.var(x),\"y平均数为%.2f\"%np.mean(y),\"方差为%.2f\"%np.var(y),\"xy的相关系数分别为%.2f\"%x.corr(y))\n"
   ]
  },
  {
   "cell_type": "markdown",
   "metadata": {},
   "source": [
    "## 4重奏图"
   ]
  },
  {
   "cell_type": "code",
   "execution_count": 105,
   "metadata": {},
   "outputs": [
    {
     "name": "stdout",
     "output_type": "stream",
     "text": [
      "直线的斜率为0.500 直线的截距为3.000\n",
      "直线的斜率为0.500 直线的截距为3.001\n",
      "直线的斜率为0.500 直线的截距为3.002\n",
      "直线的斜率为0.500 直线的截距为3.002\n"
     ]
    },
    {
     "data": {
      "image/png": "[encoded data removed]",
      "text/plain": [
       "<Figure size 432x288 with 1 Axes>"
      ]
     },
     "metadata": {
      "needs_background": "light"
     },
     "output_type": "display_data"
    }
   ],
   "source": [
    "import matplotlib.pyplot as plt\n",
    "from sklearn import linear_model\n",
    "\n",
    "model = linear_model.LinearRegression()\n",
    "\n",
    "for x,y in zip([x1,x2,x3,x4],[y1,y2,y3,y4]):\n",
    "    x_2d=np.array(x).reshape(-1,1)\n",
    "    y_2d=np.array(y).reshape(-1,1)\n",
    "\n",
    "    model.fit (x_2d,y_2d)\n",
    "    weight=model.coef_\n",
    "    bias=model.intercept_\n",
    "    print(\"直线的斜率为%.3f\"%weight,\"直线的截距为%.3f\"%bias)\n",
    "    plt.scatter(x,y)\n",
    "    y_pred=model.predict(x_2d)\n",
    "    plt.plot(x, y_pred)\n",
    "\n",
    "plt.show()\n",
    "\n"
   ]
  }
 ],
 "metadata": {
  "kernelspec": {
   "display_name": "Python 3",
   "language": "python",
   "name": "python3"
  },
  "language_info": {
   "codemirror_mode": {
    "name": "ipython",
    "version": 3
   },
   "file_extension": ".py",
   "mimetype": "text/x-python",
   "name": "python",
   "nbconvert_exporter": "python",
   "pygments_lexer": "ipython3",
   "version": "3.8.2"
  }
 },
 "nbformat": 4,
 "nbformat_minor": 2
}
