{
 "cells": [
  {
   "cell_type": "markdown",
   "metadata": {},
   "source": [
    "# NN 神经网络/多层感知机"
   ]
  },
  {
   "cell_type": "code",
   "execution_count": 51,
   "metadata": {},
   "outputs": [
    {
     "name": "stdout",
     "output_type": "stream",
     "text": [
      "{0, 1, 2, 3, 4, 5, 6, 7, 8, 9}\n",
      "0.9537037037037037\n"
     ]
    },
    {
     "data": {
      "image/png": "[encoded data removed]",
      "text/plain": [
       "<Figure size 432x288 with 1 Axes>"
      ]
     },
     "metadata": {
      "needs_background": "light"
     },
     "output_type": "display_data"
    },
    {
     "data": {
      "image/png": "[encoded data removed]",
      "text/plain": [
       "<Figure size 432x288 with 1 Axes>"
      ]
     },
     "metadata": {
      "needs_background": "light"
     },
     "output_type": "display_data"
    },
    {
     "data": {
      "image/png": "[encoded data removed]",
      "text/plain": [
       "<Figure size 432x288 with 1 Axes>"
      ]
     },
     "metadata": {
      "needs_background": "light"
     },
     "output_type": "display_data"
    }
   ],
   "source": [
    "from sklearn.datasets import load_digits\n",
    "from sklearn.neural_network import MLPClassifier\n",
    "from sklearn.model_selection import train_test_split\n",
    "from sklearn.metrics import accuracy_score\n",
    "import matplotlib.pyplot as plt\n",
    "\n",
    "def imagesShow(X, y, num):\n",
    "    for i in range(num):\n",
    "        plt.title(f'{y[i]}') \n",
    "        plt.imshow(X[i].reshape(8,8),cmap='gray')\n",
    "        plt.show()\n",
    "\n",
    "# 数据生成\n",
    "data = load_digits()\n",
    "X = data.images.reshape(len(data.images), -1)   # (1797, 8, 8) -> (1797, 64)\n",
    "y = data.target\n",
    "print(set(y))\n",
    "\n",
    "\n",
    "X_train, X_test, y_train, y_test = train_test_split(X, y, test_size=0.3)\n",
    "model = model = MLPClassifier(hidden_layer_sizes=(16, ),max_iter=500) \n",
    "model.fit(X_train, y_train) # 训练\n",
    "y_pred = model.predict(X_test) \n",
    "print(accuracy_score(y_pred, y_test)) # 评估\n",
    "\n",
    "#imagesShow(X,y,3)\n",
    "imagesShow(X_test,y_pred,3 )"
   ]
  },
  {
   "cell_type": "markdown",
   "metadata": {},
   "source": [
    "## 调用sklearn实现NN"
   ]
  },
  {
   "cell_type": "code",
   "execution_count": null,
   "metadata": {},
   "outputs": [],
   "source": [
    "from sklearn.neural_network import MLPClassifier\n",
    "from sklearn.datasets import make_moons\n",
    "from sklearn.model_selection import train_test_split\n",
    "import matplotlib.pyplot as plt\n",
    "import mglearn\n",
    "\n",
    "X,y = make_moons(n_samples=200,noise=0.25,random_state=3)\n",
    "X_train,X_test,y_train,y_test = train_test_split(X,y,stratify=y,random_state=3)\n",
    "\n",
    "mlp = MLPClassifier(solver='lbfgs',random_state=0,hidden_layer_sizes=[100]).fit(X_train,y_train)\n",
    "#mlp = MLPClassifier(solver='lbfgs',activation='logistic',random_state=0,hidden_layer_sizes=[10,10]).fit(X_train,y_train)\n",
    "mglearn.plots.plot_2d_separator(mlp,X_train,fill=True,alpha=0.3)\n",
    "mglearn.discrete_scatter(X_train[:,0],X_train[:,1],y_train)\n",
    "plt.xlabel('feature 0')\n",
    "plt.ylabel('feature 1')\n",
    "print('Accuracy on training set:{:.2f}%'.format(mlp.score(X_train,y_train)*100))\n",
    "print('Accuracy on test set:{:.2f}%'.format(mlp.score(X_test,y_test)*100))"
   ]
  },
  {
   "cell_type": "markdown",
   "metadata": {},
   "source": [
    "## MINIST 经典数据集LOAD\n",
    "\n",
    "60000 train+10000 test\n",
    "http://yann.lecun.com/exdb/mnist/\n",
    "\n",
    "[Visualization of MLP weights on MNIST — scikit-learn 1.0.2 documentation](https://scikit-learn.org/stable/auto_examples/neural_networks/plot_mnist_filters.html#sphx-glr-auto-examples-neural-networks-plot-mnist-filters-py)"
   ]
  },
  {
   "cell_type": "code",
   "execution_count": 94,
   "metadata": {},
   "outputs": [
    {
     "data": {
      "image/png": "[encoded data removed]",
      "text/plain": [
       "<Figure size 432x288 with 1 Axes>"
      ]
     },
     "metadata": {
      "needs_background": "light"
     },
     "output_type": "display_data"
    }
   ],
   "source": [
    "import numpy as np\n",
    "import os\n",
    "\n",
    "train_image_file = 'train-images-idx3-ubyte'\n",
    "train_label_file = 'train-labels-idx1-ubyte'\n",
    "test_image_file = 't10k-images-idx3-ubyte'\n",
    "test_label_file = 't10k-labels-idx1-ubyte'\n",
    "\n",
    "MINIST_PATH='../resource/data/MINIST/'\n",
    "\n",
    "def openMINIST(image_file,label_file):\n",
    "    with open(os.path.join(MINIST_PATH,image_file), 'rb') as f1:\n",
    "        image_file = f1.read()\n",
    "    with open(os.path.join(MINIST_PATH,label_file), 'rb') as f2:\n",
    "        label_file = f2.read()\n",
    "\n",
    "    # offset set, referece to https://www.pythonf.cn/read/58933\n",
    "    image_file = image_file[16:]   # image_file:bytes\n",
    "    label_file = label_file[8:]\n",
    "    \n",
    "    #print(image_file[12:16].decode('UTF-8','strict'))\n",
    "    #print(label_file[ 4:8].decode('UTF-8','strict'))\n",
    "    return image_file,label_file\n",
    "\n",
    "\n",
    "def showPic(image_file,label_file, num):\n",
    "    for i in range(num):\n",
    "        label = label_file[i]\n",
    "        image_list = [item for item in image_file[i*784:i*784+784]] # image_list:list\n",
    "        image_np = np.array(image_list, dtype=np.uint8)             #(784,)\n",
    "        plt.title(f'{label}')\n",
    "        plt.imshow(image_np.reshape(28,28,1))\n",
    "        plt.show()\n",
    "\n",
    "#image_file,label_file = openMINIST(train_image_file, train_label_file)\n",
    "image_file,label_file = openMINIST(test_image_file, test_label_file)\n",
    "showPic(image_file,label_file, 0)\n",
    "\n",
    "\n",
    "image_array = np.frombuffer(image_file, dtype=np.uint8).reshape(-1,784)  #(60000, 784)\n",
    "label_array = np.frombuffer(label_file, dtype=np.uint8)                  #(60000,)\n",
    "plt.title(f'{label_array[0]}')\n",
    "plt.imshow(image_array[0].reshape(28,28,1))\n",
    "plt.show()\n",
    "\n"
   ]
  }
 ],
 "metadata": {
  "kernelspec": {
   "display_name": "Python 3",
   "language": "python",
   "name": "python3"
  },
  "language_info": {
   "codemirror_mode": {
    "name": "ipython",
    "version": 3
   },
   "file_extension": ".py",
   "mimetype": "text/x-python",
   "name": "python",
   "nbconvert_exporter": "python",
   "pygments_lexer": "ipython3",
   "version": "3.8.2"
  }
 },
 "nbformat": 4,
 "nbformat_minor": 2
}
