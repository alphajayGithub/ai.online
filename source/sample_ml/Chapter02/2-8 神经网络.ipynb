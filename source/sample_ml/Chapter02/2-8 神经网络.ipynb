{
 "cells": [
  {
   "cell_type": "markdown",
   "metadata": {},
   "source": [
    "# NN 神经网络/多层感知机"
   ]
  },
  {
   "cell_type": "code",
   "execution_count": 49,
   "metadata": {},
   "outputs": [
    {
     "name": "stdout",
     "output_type": "stream",
     "text": [
      "(1797, 64)\n",
      "{0, 1, 2, 3, 4, 5, 6, 7, 8, 9}\n"
     ]
    },
    {
     "data": {
      "text/plain": [
       "0.9629629629629629"
      ]
     },
     "execution_count": 49,
     "metadata": {},
     "output_type": "execute_result"
    }
   ],
   "source": [
    "from sklearn.datasets import load_digits\n",
    "from sklearn.neural_network import MLPClassifier\n",
    "from sklearn.model_selection import train_test_split\n",
    "from sklearn.metrics import accuracy_score\n",
    "import matplotlib.pyplot as plt\n",
    "\n",
    "# 数据生成\n",
    "data = load_digits()\n",
    "X = data.images.reshape(len(data.images), -1)\n",
    "y = data.target\n",
    "\n",
    "print(X.shape)\n",
    "print(set(y))\n",
    "\n",
    "\n",
    "X_train, X_test, y_train, y_test = train_test_split(X, y, test_size=0.3)\n",
    "model = model = MLPClassifier(hidden_layer_sizes=(16, ),max_iter=2000) \n",
    "model.fit(X_train, y_train) # 训练\n",
    "y_pred = model.predict(X_test) \n",
    "\n",
    "accuracy_score(y_pred, y_test) # 评估\n",
    "\n",
    "#for i in range(5):\n",
    "#    print(y_pred[i]) \n",
    "#    plt.imshow(X_test[i].reshape(8,8),cmap='gray')\n",
    "#    plt.show()\n",
    "\n"
   ]
  },
  {
   "cell_type": "markdown",
   "metadata": {},
   "source": [
    "## 调用sklearn实现NN"
   ]
  },
  {
   "cell_type": "code",
   "execution_count": 52,
   "metadata": {},
   "outputs": [
    {
     "name": "stdout",
     "output_type": "stream",
     "text": [
      "Accuracy on training set:100.00%\n",
      "Accuracy on test set:92.00%\n"
     ]
    },
    {
     "data": {
      "image/png": "[encoded data removed]",
      "text/plain": [
       "<Figure size 432x288 with 1 Axes>"
      ]
     },
     "metadata": {},
     "output_type": "display_data"
    }
   ],
   "source": [
    "from sklearn.neural_network import MLPClassifier\n",
    "from sklearn.datasets import make_moons\n",
    "from sklearn.model_selection import train_test_split\n",
    "import matplotlib.pyplot as plt\n",
    "import mglearn\n",
    "\n",
    "X,y = make_moons(n_samples=200,noise=0.25,random_state=3)\n",
    "X_train,X_test,y_train,y_test = train_test_split(X,y,stratify=y,random_state=3)\n",
    "\n",
    "mlp = MLPClassifier(solver='lbfgs',random_state=0,hidden_layer_sizes=[100]).fit(X_train,y_train)\n",
    "#mlp = MLPClassifier(solver='lbfgs',activation='logistic',random_state=0,hidden_layer_sizes=[10,10]).fit(X_train,y_train)\n",
    "mglearn.plots.plot_2d_separator(mlp,X_train,fill=True,alpha=0.3)\n",
    "mglearn.discrete_scatter(X_train[:,0],X_train[:,1],y_train)\n",
    "plt.xlabel('feature 0')\n",
    "plt.ylabel('feature 1')\n",
    "print('Accuracy on training set:{:.2f}%'.format(mlp.score(X_train,y_train)*100))\n",
    "print('Accuracy on test set:{:.2f}%'.format(mlp.score(X_test,y_test)*100))"
   ]
  },
  {
   "cell_type": "markdown",
   "metadata": {},
   "source": [
    "## MINIST 经典数据集 60000 train+10000 test\n",
    "http://yann.lecun.com/exdb/mnist/\n",
    "\n"
   ]
  },
  {
   "cell_type": "markdown",
   "metadata": {},
   "source": [
    "## 完整实现NN\n",
    "\n",
    "[神经网络](https://zhuanlan.zhihu.com/p/450894854)"
   ]
  },
  {
   "cell_type": "markdown",
   "metadata": {},
   "source": [
    "## 主函数 & 代价函数"
   ]
  },
  {
   "cell_type": "code",
   "execution_count": null,
   "metadata": {},
   "outputs": [],
   "source": [
    "import numpy as np\n",
    "import scipy.io as spio\n",
    "import matplotlib.pyplot as plt\n",
    "from scipy import optimize\n",
    "import time\n",
    "\n",
    "datafile = '../resource/lawLite19/NeuralNetwok/data_digits.mat'\n",
    "\n",
    "def NeuralNteworks(input_layer_size,hidden_layer_size,output_layer_size):\n",
    "    data_img = spio.loadmat(datafile)\n",
    "    X = data_img['X']\n",
    "    Y = data_img['y']\n",
    "\n",
    "    m,n = X.shape\n",
    "\n",
    "    rand_indices = [t for t in [np.random.randint(x-x,m) for x in range(1000)]]\n",
    "    plot_data(X[rand_indices,:])\n",
    "\n",
    "    Lambda = 1\n",
    "\n",
    "    init_theta_1 = randInitWeights(input_layer_size,hidden_layer_size)\n",
    "    init_theta_2 = randInitWeights(hidden_layer_size,output_layer_size)\n",
    "\n",
    "    init_nn_params = np.vstack((init_theta_1.reshape(-1,1),init_theta_2.reshape(-1,1)))\n",
    "\n",
    "    start = time.time()\n",
    "    result = optimize.fmin_cg(nnCostFunction,init_nn_params,fprime=nnGradient,args=(input_layer_size,hidden_layer_size,output_layer_size,X,Y,Lambda),maxiter=100)\n",
    "    print('run time:',time.time()-start)\n",
    "    print(result)\n",
    "\n",
    "    length = result.shape[0]\n",
    "    theta_1 = result[0:hidden_layer_size*(input_layer_size+1)].reshape(hidden_layer_size,input_layer_size+1)\n",
    "    theta_2 = result[hidden_layer_size*(input_layer_size+1):length].reshape(output_layer_size,hidden_layer_size+1)\n",
    "    plot_data(theta_1[:,1:length])\n",
    "    plot_data(theta_2[:,1:length])\n",
    "\n",
    "    p = predict(theta_1,theta_2,X)\n",
    "    print('accuracy:{:.2f}%'.format(np.mean(np.float64(p == Y.reshape(-1,1))*100)))\n",
    "\n",
    "    res = np.hstack((p.reshape(-1,1)))\n",
    "    np.savetxt('predict.txt',res,delimiter=',')\n",
    "\n",
    "def nnCostFunction(nn_params,input_layer_size,hidden_layer_size,num_labels,X,y,Lambda):\n",
    "    length = nn_params.shape[0]\n",
    "    theta_1 = nn_params[0:hidden_layer_size*(input_layer_size+1)].reshape(hidden_layer_size,input_layer_size+1)\n",
    "    theta_2 = nn_params[hidden_layer_size*(input_layer_size+1):length].reshape(num_labels,hidden_layer_size+1)\n",
    "\n",
    "    m = X.shape[0]\n",
    "    class_y = np.zeros((m,num_labels))\n",
    "\n",
    "    for i in range(num_labels):\n",
    "        class_y[:,i] = np.int32(y==i).reshape(1,-1)\n",
    "\n",
    "    theta1_col = theta_1.shape[1]\n",
    "    theta1_x = theta_1[:,1:theta1_col]\n",
    "    theta2_col = theta_2.shape[1]\n",
    "    theta2_x = theta_2[:,1:theta2_col]\n",
    "\n",
    "    temp = np.dot(np.transpose(np.vstack((theta1_x.reshape(-1,1),theta2_x.reshape(-1,1)))),np.vstack((theta1_x.reshape(-1,1),theta2_x.reshape(-1,1))))\n",
    "\n",
    "    a1 = np.hstack((np.ones((m,1)),X))\n",
    "    z2 = np.dot(a1,np.transpose(theta_1))\n",
    "    a2 = sigmoid(z2)\n",
    "    a2 = np.hstack((np.ones((m,1)),a2))\n",
    "    z3 = np.dot(a2,np.transpose(theta_2))\n",
    "    h = sigmoid(z3)\n",
    "\n",
    "    J = -(np.dot(np.transpose(class_y.reshape(-1,1)),np.log(h.reshape(-1,1)))+np.dot(np.transpose(1-class_y.reshape(-1,1)),np.log(1-h.reshape(-1,1))))/m + temp*Lambda/2/m\n",
    "\n",
    "    return np.ravel(J)"
   ]
  },
  {
   "cell_type": "markdown",
   "metadata": {},
   "source": [
    "## 反向传播梯度"
   ]
  },
  {
   "cell_type": "code",
   "execution_count": null,
   "metadata": {},
   "outputs": [],
   "source": [
    "def nnGradient(nn_params,input_layer_size,hidden_layer_size,num_labels,X,y,Lambda):\n",
    "    length = nn_params.shape[0]\n",
    "\n",
    "    theta_1 = nn_params[0:hidden_layer_size*(input_layer_size+1)].reshape(hidden_layer_size,input_layer_size+1).copy()\n",
    "    theta_2 = nn_params[hidden_layer_size*(input_layer_size+1):length].reshape(num_labels,hidden_layer_size+1).copy()\n",
    "\n",
    "    m = X.shape[0]\n",
    "    class_y = np.zeros((m,num_labels))\n",
    "\n",
    "    for i in range(num_labels):\n",
    "        class_y[:,i] = np.int32(y==i).reshape(1,-1)\n",
    "\n",
    "    theta1_col = theta_1.shape[1]\n",
    "    theta1_x = theta_1[:,1:theta1_col]\n",
    "    theta2_col = theta_2.shape[1]\n",
    "    theta2_x = theta_2[:,1:theta2_col]\n",
    "\n",
    "    theta1_grad = np.zeros((theta_1.shape))\n",
    "    theta2_grad = np.zeros((theta_2.shape))\n",
    "\n",
    "    a1 = np.hstack((np.ones((m,1)),X))\n",
    "    z2 = np.dot(a1,np.transpose(theta_1))\n",
    "    a2 = sigmoid(z2)\n",
    "    a2 = np.hstack((np.ones((m,1)),a2))\n",
    "    z3 = np.dot(a2,np.transpose(theta_2))\n",
    "    h = sigmoid(z3)\n",
    "\n",
    "    delta_3 = np.zeros((m,num_labels))\n",
    "    delta_2 = np.zeros((m,hidden_layer_size))\n",
    "    for i in range(m):\n",
    "        delta_3[i,:] = h[i,:] - class_y[i,:]\n",
    "        theta2_grad += np.dot(np.transpose(delta_3[i,:].reshape(1,-1)),a2[i,:].reshape(1,-1))\n",
    "        delta_2[i,:] = np.dot(delta_3[i,:].reshape(1,-1),theta2_x)*sigmoidGradient(z2[i,:])\n",
    "        theta1_grad += np.dot(np.transpose(delta_2[i,:].reshape(1,-1)),a1[i,:].reshape(1,-1))\n",
    "\n",
    "    theta_1[:,0] = 0\n",
    "    theta_2[:,0] = 0\n",
    "\n",
    "    grad = (np.vstack((theta1_grad.reshape(-1,1),theta2_grad.reshape(-1,1)))+Lambda*np.vstack((theta_1.reshape(-1,1),theta_2.reshape(-1,1))))/m\n",
    "    return np.ravel(grad)"
   ]
  },
  {
   "cell_type": "markdown",
   "metadata": {},
   "source": [
    "## 辅助函数的实现"
   ]
  },
  {
   "cell_type": "code",
   "execution_count": null,
   "metadata": {},
   "outputs": [],
   "source": [
    "def sigmoid(z):\n",
    "    return 1.0/(1.0+np.exp(-z))\n",
    "\n",
    "def sigmoidGradient(z):\n",
    "    return sigmoid(z)*(1-sigmoid(z))\n",
    "\n",
    "def randInitWeights(L_in,L_out):\n",
    "    w = np.zeros((L_out,L_in+1))\n",
    "    init_epsilon = (6.0/(L_out+L_in))**0.5\n",
    "    w = np.random.rand(L_out,1+L_in)*2*init_epsilon - init_epsilon\n",
    "    return w\n",
    "\n",
    "def checkGradient(Lambda=0):\n",
    "    input_layer_size = 3\n",
    "    hidden_layer_size = 5\n",
    "    num_labels = 3\n",
    "    m = 5\n",
    "    init_theta_1 = debugInitWeights(input_layer_size,hidden_layer_size)\n",
    "    init_theta_2 = debugInitWeights(hidden_layer_size,num_labels)\n",
    "    X = debugInitWeights(input_layer_size-1,m)\n",
    "    y = np.transpose(np.mod(np.arange(1,m+1),num_labels))\n",
    "\n",
    "    y = y.reshape(-1,1)\n",
    "    nn_params = np.vstack((init_theta_1.reshape(-1,1),init_theta_2.reshape(-1,1)))\n",
    "    bp_grad = nnGradient(nn_params,input_layer_size,hidden_layer_size,num_labels,X,y,Lambda)\n",
    "\n",
    "    num_grad = np.zeros((nn_params.shape[0]))\n",
    "    step = np.zeros((nn_params.shape[0]))\n",
    "\n",
    "    error = 1e-4\n",
    "    for i in range(nn_params.shape[0]):\n",
    "        step[i] = error\n",
    "        loss_1 = nnCostFunction(nn_params-step.reshape(-1,1),input_layer_size,hidden_layer_size,num_labels,X,y,Lambda)\n",
    "        loss_2 = nnCostFunction(nn_params+step.reshape(-1,1),input_layer_size,hidden_layer_size,num_labels,X,y,Lambda)\n",
    "        num_grad[i] = (loss_2-loss_1)/(2*error)\n",
    "        step[i] = 0\n",
    "    res = np.hstack((num_grad.reshape(-1,1),bp_grad.reshape(-1,1)))\n",
    "    print(res)\n",
    "\n",
    "def debugInitWeights(fan_in,fan_out):\n",
    "    w = np.zeros((fan_out,fan_in+1))\n",
    "    x = np.arange(1,fan_out*(fan_in+1)+1)\n",
    "    w = np.sin(x).reshape(w.shape)/10\n",
    "    return w"
   ]
  },
  {
   "cell_type": "markdown",
   "metadata": {},
   "source": [
    "## 绘图函数与预测函数"
   ]
  },
  {
   "cell_type": "code",
   "execution_count": null,
   "metadata": {},
   "outputs": [],
   "source": [
    "def plot_data(ImgData):\n",
    "    sum = 0\n",
    "    m,n = ImgData.shape\n",
    "    width = np.int32(np.round(np.sqrt(n)))\n",
    "    height = np.int32(n/width)\n",
    "\n",
    "    rows = np.int32(np.floor(np.sqrt(m)))\n",
    "    cols = np.int32(np.ceil(m/rows))\n",
    "\n",
    "    pad = 1\n",
    "    display_array = -np.ones((pad+rows*(height+pad),pad+cols*(width+pad)))\n",
    "    for i in range(rows):\n",
    "        for j in range(cols):\n",
    "            if sum >= m:\n",
    "                break\n",
    "            display_array[pad+i*(height+pad):pad+i*(height+pad)+height,pad+j*(width+pad):pad+j*(width+pad)+width] = ImgData[sum,:].reshape(height,width,order='F')\n",
    "            sum += 1\n",
    "        if sum >= m:\n",
    "            break\n",
    "    plt.imshow(display_array,cmap='gray')\n",
    "    plt.axis('off')\n",
    "    plt.show()\n",
    "\n",
    "def predict(theta_1,theta_2,X):\n",
    "    m = X.shape[0]\n",
    "    num_labels = theta_2.shape[0]\n",
    "\n",
    "    X = np.hstack((np.ones((m,1)),X))\n",
    "    h1 = sigmoid(np.dot(X,np.transpose(theta_1)))\n",
    "    h1 = np.hstack((np.ones((m,1)),h1))\n",
    "    h2 = sigmoid(np.dot(h1,np.transpose(theta_2)))\n",
    "\n",
    "    p = np.array(np.where(h2[0,:]==np.max(h2,axis=1)[0]))\n",
    "    for i in np.arange(1,m):\n",
    "        t = np.array(np.where(h2[i,:]==np.max(h2,axis=1)[i]))\n",
    "        p = np.vstack((p,t))\n",
    "    return p"
   ]
  },
  {
   "cell_type": "markdown",
   "metadata": {},
   "source": [
    "## run"
   ]
  },
  {
   "cell_type": "code",
   "execution_count": null,
   "metadata": {},
   "outputs": [],
   "source": [
    "   checkGradient()\n",
    "   NeuralNteworks(400,25,10)"
   ]
  }
 ],
 "metadata": {
  "kernelspec": {
   "display_name": "Python 3",
   "language": "python",
   "name": "python3"
  },
  "language_info": {
   "codemirror_mode": {
    "name": "ipython",
    "version": 3
   },
   "file_extension": ".py",
   "mimetype": "text/x-python",
   "name": "python",
   "nbconvert_exporter": "python",
   "pygments_lexer": "ipython3",
   "version": "3.8.2"
  }
 },
 "nbformat": 4,
 "nbformat_minor": 2
}
